{
  "nbformat": 4,
  "nbformat_minor": 0,
  "metadata": {
    "colab": {
      "name": "gradients_PS_22_23.ipynb",
      "provenance": [],
      "include_colab_link": true
    },
    "kernelspec": {
      "name": "python3",
      "display_name": "Python 3"
    },
    "language_info": {
      "name": "python"
    }
  },
  "cells": [
    {
      "cell_type": "markdown",
      "metadata": {
        "id": "view-in-github",
        "colab_type": "text"
      },
      "source": [
        "<a href=\"https://colab.research.google.com/github/abhipraay/CVI_Projects_PS/blob/main/gradients_PS_22_23.ipynb\" target=\"_parent\"><img src=\"https://colab.research.google.com/assets/colab-badge.svg\" alt=\"Open In Colab\"/></a>"
      ]
    },
    {
      "cell_type": "code",
      "source": [
        "import tensorflow as tf\n",
        "import numpy as np"
      ],
      "metadata": {
        "id": "jrvfBdcajg0i"
      },
      "execution_count": null,
      "outputs": []
    },
    {
      "cell_type": "markdown",
      "source": [
        "##Task 1: Using Gradients in Tensorflow\n",
        "\n",
        "In our problem statement, we will be required to compute and backpropagate gradients through the neural network. Here is a small task for you, just to get a feel of it. Consider the following function (does not really have any physical significance, merely a toy function):\n",
        "\n",
        "$$L(θ_1,\\theta_2) = a\\cdot\\theta_1^2 + b\\cdot\\theta_2 + c$$\n",
        "where $a = 3, b = 4, c = 2$.\n",
        "Fill in the below function to calculate the gradients for the following input theta, take 100 evenly spaced points for each\n",
        "$$ \\theta_1 \\in [0,10] $$\n",
        "$$ \\theta_2 \\in [0,5] $$\n",
        "\n",
        "Your output should be $g_1$, which is an array of gradients of $\\theta_1$ and $g_2$, which is an array of gradients of $\\theta_2$. \n"
      ],
      "metadata": {
        "id": "Ju1OwojNkkdL"
      }
    },
    {
      "cell_type": "code",
      "execution_count": null,
      "metadata": {
        "id": "FvLiyPH8jOXY"
      },
      "outputs": [],
      "source": [
        "@tf.function\n",
        "## You will have to edit this function. Change the values and add new lines of code to achieve the required objective.\n",
        "def gradients():\n",
        "  ## First, fill in values for theta_1 and theta_2\n",
        "  theta_1 = 0\n",
        "  theta_2 = 0\n",
        "  ## Write an expression for the function\n",
        "  cost = 0\n",
        "  ## Use the gradients methods in tensorflow to evaluate the 2 sets of gradients. \n",
        "  g = 0\n",
        "  ## Modify the return part accordingly to return the 2 sets of gradients\n",
        "  return 0"
      ]
    },
    {
      "cell_type": "code",
      "source": [
        "gradients()"
      ],
      "metadata": {
        "colab": {
          "base_uri": "https://localhost:8080/"
        },
        "id": "oWdiuGIEqXoJ",
        "outputId": "70b99324-9512-4ee6-c98c-16a81ffdc3a7"
      },
      "execution_count": null,
      "outputs": [
        {
          "output_type": "execute_result",
          "data": {
            "text/plain": [
              "<tf.Tensor: shape=(), dtype=int32, numpy=0>"
            ]
          },
          "metadata": {},
          "execution_count": 36
        }
      ]
    },
    {
      "cell_type": "markdown",
      "source": [
        "##Task 2: Checking your understanding\n",
        "\n",
        "What did you understand from the problem statement? How do you think Deep Learning can be integrated with Finite Element Methods to solve Partial Differential Equations?\n",
        "\n",
        "You might need to do some googling and reading for this one, but talk about whatever you've understood. Tell us if you have any new ideas on how we can solve this."
      ],
      "metadata": {
        "id": "Rgc4XE-fqoND"
      }
    },
    {
      "cell_type": "markdown",
      "source": [
        "##Your Answer:"
      ],
      "metadata": {
        "id": "KM0V2qBRsHHe"
      }
    },
    {
      "cell_type": "code",
      "source": [
        ""
      ],
      "metadata": {
        "id": "tMbtnkaJqmE4"
      },
      "execution_count": null,
      "outputs": []
    }
  ]
}